{
 "cells": [
  {
   "cell_type": "code",
   "execution_count": 87,
   "metadata": {},
   "outputs": [],
   "source": [
    "import pandas as pd\n",
    "import gzip\n",
    "\n",
    "# load metadata for electronics\n",
    "# http://jmcauley.ucsd.edu/data/amazon/links.html\n",
    "def parse(path):\n",
    "  g = gzip.open(path, 'rb')\n",
    "  for l in g:\n",
    "    yield eval(l)\n",
    "\n",
    "def getDF(path):\n",
    "  i = 0\n",
    "  df = {}\n",
    "  for d in parse(path):\n",
    "    df[i] = d\n",
    "    i += 1\n",
    "  return pd.DataFrame.from_dict(df, orient='index')\n",
    "\n",
    "df = getDF('data/meta_Electronics.json.gz')"
   ]
  },
  {
   "cell_type": "code",
   "execution_count": 88,
   "metadata": {},
   "outputs": [],
   "source": [
    "# astype(bool) since empty strings are falsy\n",
    "filter = df.description.notnull() & df.description.astype(bool) & df.brand.notnull() & df.brand.astype(bool) & df.price.notnull()\n",
    "products = df[filter]"
   ]
  },
  {
   "cell_type": "code",
   "execution_count": 89,
   "metadata": {},
   "outputs": [
    {
     "data": {
      "text/plain": [
       "(nan, False)"
      ]
     },
     "execution_count": 89,
     "metadata": {},
     "output_type": "execute_result"
    }
   ],
   "source": [
    "import numpy as np\n",
    "df.salesRank.iloc[0], df.salesRank.iloc[0] == None"
   ]
  },
  {
   "cell_type": "code",
   "execution_count": 90,
   "metadata": {},
   "outputs": [
    {
     "name": "stderr",
     "output_type": "stream",
     "text": [
      "C:\\Users\\bpech\\AppData\\Local\\Temp\\ipykernel_18820\\3645439234.py:6: SettingWithCopyWarning: \n",
      "A value is trying to be set on a copy of a slice from a DataFrame.\n",
      "Try using .loc[row_indexer,col_indexer] = value instead\n",
      "\n",
      "See the caveats in the documentation: https://pandas.pydata.org/pandas-docs/stable/user_guide/indexing.html#returning-a-view-versus-a-copy\n",
      "  products.categories = products.categories.apply(apply_categories)\n",
      "C:\\Users\\bpech\\AppData\\Local\\Temp\\ipykernel_18820\\3645439234.py:8: SettingWithCopyWarning: \n",
      "A value is trying to be set on a copy of a slice from a DataFrame.\n",
      "Try using .loc[row_indexer,col_indexer] = value instead\n",
      "\n",
      "See the caveats in the documentation: https://pandas.pydata.org/pandas-docs/stable/user_guide/indexing.html#returning-a-view-versus-a-copy\n",
      "  products.salesRank = products.salesRank.fillna('')\n",
      "C:\\Users\\bpech\\AppData\\Local\\Temp\\ipykernel_18820\\3645439234.py:13: SettingWithCopyWarning: \n",
      "A value is trying to be set on a copy of a slice from a DataFrame.\n",
      "Try using .loc[row_indexer,col_indexer] = value instead\n",
      "\n",
      "See the caveats in the documentation: https://pandas.pydata.org/pandas-docs/stable/user_guide/indexing.html#returning-a-view-versus-a-copy\n",
      "  products.salesRank = products.salesRank.apply(apply_sales_rank)\n"
     ]
    }
   ],
   "source": [
    "# flatten 2d array\n",
    "def apply_categories(row):\n",
    "  flat_array = [c for array in row for c in array]\n",
    "  flat_array_str = ','.join(flat_array)\n",
    "  return '{'+flat_array_str+'}'\n",
    "products.categories = products.categories.apply(apply_categories)\n",
    "# escape json\n",
    "products.salesRank = products.salesRank.fillna('')\n",
    "def apply_sales_rank(row):\n",
    "  if row == {}:\n",
    "    return ''\n",
    "  return str(row).replace('\\'', '\"')\n",
    "products.salesRank = products.salesRank.apply(apply_sales_rank)\n",
    "# save\n",
    "products.filter(items=['asin', 'title','imUrl', 'description', 'price', 'categories', 'brand', 'salesRank']).to_csv('electronics_metadata.csv', index=False)"
   ]
  }
 ],
 "metadata": {
  "kernelspec": {
   "display_name": "Python 3",
   "language": "python",
   "name": "python3"
  },
  "language_info": {
   "codemirror_mode": {
    "name": "ipython",
    "version": 3
   },
   "file_extension": ".py",
   "mimetype": "text/x-python",
   "name": "python",
   "nbconvert_exporter": "python",
   "pygments_lexer": "ipython3",
   "version": "3.10.0"
  },
  "orig_nbformat": 4,
  "vscode": {
   "interpreter": {
    "hash": "bedefe99a532ed1dcc567f7f5beb39e3c5be466ed88551f7c83012ec64f38bef"
   }
  }
 },
 "nbformat": 4,
 "nbformat_minor": 2
}
