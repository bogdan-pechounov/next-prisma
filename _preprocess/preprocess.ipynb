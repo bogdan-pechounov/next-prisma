{
 "cells": [
  {
   "cell_type": "code",
   "execution_count": 3,
   "metadata": {},
   "outputs": [],
   "source": [
    "import pickle\n",
    "\n",
    "with open('data/meta_electronics_filtered.pickle', 'rb') as f:\n",
    "  products = pickle.load(f)"
   ]
  },
  {
   "cell_type": "code",
   "execution_count": 4,
   "metadata": {},
   "outputs": [],
   "source": [
    "# flatten 2d array\n",
    "def apply_categories(row):\n",
    "  flat_array = [c for array in row for c in array]\n",
    "  flat_array_str = ','.join(flat_array)\n",
    "  return '{'+flat_array_str+'}'\n",
    "products.categories = products.categories.apply(apply_categories)\n",
    "# escape json\n",
    "products.salesRank = products.salesRank.fillna('')\n",
    "def apply_sales_rank(row):\n",
    "  if row == {}:\n",
    "    return ''\n",
    "  return str(row).replace('\\'', '\"')\n",
    "products.salesRank = products.salesRank.apply(apply_sales_rank)\n",
    "# save\n",
    "items = ['asin', 'title','imUrl', 'description', 'price', 'categories', 'brand', 'salesRank']\n",
    "products.filter(items=items).to_csv('electronics_metadata.csv', index=False)"
   ]
  }
 ],
 "metadata": {
  "kernelspec": {
   "display_name": "Python 3",
   "language": "python",
   "name": "python3"
  },
  "language_info": {
   "codemirror_mode": {
    "name": "ipython",
    "version": 3
   },
   "file_extension": ".py",
   "mimetype": "text/x-python",
   "name": "python",
   "nbconvert_exporter": "python",
   "pygments_lexer": "ipython3",
   "version": "3.10.0"
  },
  "orig_nbformat": 4,
  "vscode": {
   "interpreter": {
    "hash": "bedefe99a532ed1dcc567f7f5beb39e3c5be466ed88551f7c83012ec64f38bef"
   }
  }
 },
 "nbformat": 4,
 "nbformat_minor": 2
}
