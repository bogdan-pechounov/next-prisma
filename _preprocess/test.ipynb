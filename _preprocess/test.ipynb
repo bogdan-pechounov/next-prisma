{
 "cells": [
  {
   "cell_type": "code",
   "execution_count": 55,
   "metadata": {},
   "outputs": [],
   "source": [
    "import pandas as pd\n",
    "import gzip\n",
    "\n",
    "# load metadata for electronics\n",
    "# http://jmcauley.ucsd.edu/data/amazon/links.html\n",
    "def parse(path):\n",
    "  g = gzip.open(path, 'rb')\n",
    "  for l in g:\n",
    "    yield eval(l)\n",
    "\n",
    "def getDF(path):\n",
    "  i = 0\n",
    "  df = {}\n",
    "  for d in parse(path):\n",
    "    df[i] = d\n",
    "    i += 1\n",
    "  return pd.DataFrame.from_dict(df, orient='index')\n",
    "\n",
    "df = getDF('data/meta_Electronics.json.gz')"
   ]
  },
  {
   "cell_type": "code",
   "execution_count": 18,
   "metadata": {},
   "outputs": [
    {
     "data": {
      "text/plain": [
       "'48    [[Cell Phones & Accessories, Cases, Basic Case...'"
      ]
     },
     "execution_count": 18,
     "metadata": {},
     "output_type": "execute_result"
    }
   ],
   "source": [
    "df[df.categories.apply(lambda row : len(row)) > 1].iloc[:1].categories.to_string()"
   ]
  },
  {
   "cell_type": "code",
   "execution_count": 59,
   "metadata": {},
   "outputs": [
    {
     "name": "stderr",
     "output_type": "stream",
     "text": [
      "C:\\Users\\bpech\\AppData\\Local\\Temp\\ipykernel_22568\\80580704.py:1: UserWarning: Boolean Series key will be reindexed to match DataFrame index.\n",
      "  categories = df.iloc[:500][df.categories.apply(lambda row : len(row)) > 1].categories\n"
     ]
    },
    {
     "data": {
      "text/plain": [
       "48     [Cell Phones & Accessories, Cases, Basic Cases...\n",
       "189    [Electronics, Accessories & Supplies, Blank Me...\n",
       "202    [Cell Phones & Accessories, Accessories, Stylu...\n",
       "265    [Electronics, Computers & Accessories, Touch S...\n",
       "267    [Electronics, Computers & Accessories, Touch S...\n",
       "307    [Cell Phones & Accessories, Accessories, Stylu...\n",
       "348    [Cell Phones & Accessories, Accessories, Stylu...\n",
       "Name: categories, dtype: object"
      ]
     },
     "execution_count": 59,
     "metadata": {},
     "output_type": "execute_result"
    }
   ],
   "source": [
    "categories = df.iloc[:500][df.categories.apply(lambda row : len(row)) > 1].categories\n",
    "\n",
    "# [c for array in categories for c in array]\n",
    "categories.apply(lambda row : [c for array in row for c in array])"
   ]
  },
  {
   "cell_type": "code",
   "execution_count": 89,
   "metadata": {},
   "outputs": [
    {
     "name": "stderr",
     "output_type": "stream",
     "text": [
      "C:\\Users\\bpech\\AppData\\Local\\Temp\\ipykernel_22568\\2194851344.py:1: UserWarning: Boolean Series key will be reindexed to match DataFrame index.\n",
      "  products = df[df.description.notnull()][df.brand.notnull()].iloc[:100]\n"
     ]
    }
   ],
   "source": [
    "products = df[df.description.notnull() & df.brand.notnull() & df.brand.astype(bool)].iloc[:100]\n",
    "# flatten 2d array\n",
    "def apply_categories(row):\n",
    "  flat_array = [c for array in row for c in array]\n",
    "  flat_array_str = ','.join(flat_array)\n",
    "  return '{'+flat_array_str+'}'\n",
    "products.categories = products.categories.apply(apply_categories)\n",
    "\n",
    "products.filter(items=['asin', 'title','imUrl', 'description', 'categories', 'brand']).to_csv('test.csv', index=False)"
   ]
  },
  {
   "cell_type": "code",
   "execution_count": 83,
   "metadata": {},
   "outputs": [
    {
     "data": {
      "text/plain": [
       "'{Electronics,Accessories & Supplies,Audio & Video Accessories,Media Storage & Organization,Disc Storage Wallets}'"
      ]
     },
     "execution_count": 83,
     "metadata": {},
     "output_type": "execute_result"
    }
   ],
   "source": [
    "arr = ['Electronics', 'Accessories & Supplies', 'Audio & Video Accessories', 'Media Storage & Organization', 'Disc Storage Wallets']\n",
    "arr = ','.join(arr)\n",
    "'{'+arr+'}'"
   ]
  },
  {
   "cell_type": "code",
   "execution_count": 111,
   "metadata": {},
   "outputs": [
    {
     "data": {
      "text/html": [
       "<div>\n",
       "<style scoped>\n",
       "    .dataframe tbody tr th:only-of-type {\n",
       "        vertical-align: middle;\n",
       "    }\n",
       "\n",
       "    .dataframe tbody tr th {\n",
       "        vertical-align: top;\n",
       "    }\n",
       "\n",
       "    .dataframe thead th {\n",
       "        text-align: right;\n",
       "    }\n",
       "</style>\n",
       "<table border=\"1\" class=\"dataframe\">\n",
       "  <thead>\n",
       "    <tr style=\"text-align: right;\">\n",
       "      <th></th>\n",
       "      <th>asin</th>\n",
       "      <th>imUrl</th>\n",
       "      <th>description</th>\n",
       "      <th>categories</th>\n",
       "      <th>title</th>\n",
       "      <th>price</th>\n",
       "      <th>salesRank</th>\n",
       "      <th>related</th>\n",
       "      <th>brand</th>\n",
       "    </tr>\n",
       "  </thead>\n",
       "  <tbody>\n",
       "  </tbody>\n",
       "</table>\n",
       "</div>"
      ],
      "text/plain": [
       "Empty DataFrame\n",
       "Columns: [asin, imUrl, description, categories, title, price, salesRank, related, brand]\n",
       "Index: []"
      ]
     },
     "execution_count": 111,
     "metadata": {},
     "output_type": "execute_result"
    }
   ],
   "source": [
    "df[df.description.notnull() & df.brand.notnull() & df.brand == ''].iloc[10:20]"
   ]
  }
 ],
 "metadata": {
  "kernelspec": {
   "display_name": "Python 3",
   "language": "python",
   "name": "python3"
  },
  "language_info": {
   "codemirror_mode": {
    "name": "ipython",
    "version": 3
   },
   "file_extension": ".py",
   "mimetype": "text/x-python",
   "name": "python",
   "nbconvert_exporter": "python",
   "pygments_lexer": "ipython3",
   "version": "3.10.0"
  },
  "orig_nbformat": 4,
  "vscode": {
   "interpreter": {
    "hash": "bedefe99a532ed1dcc567f7f5beb39e3c5be466ed88551f7c83012ec64f38bef"
   }
  }
 },
 "nbformat": 4,
 "nbformat_minor": 2
}
