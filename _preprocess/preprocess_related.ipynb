{
 "cells": [
  {
   "cell_type": "code",
   "execution_count": 5,
   "metadata": {},
   "outputs": [],
   "source": [
    "import pickle\n",
    "\n",
    "with open('data/meta_electronics_filtered.pickle', 'rb') as f:\n",
    "  products = pickle.load(f)"
   ]
  },
  {
   "cell_type": "code",
   "execution_count": 6,
   "metadata": {},
   "outputs": [],
   "source": [
    "keys = ['also_bought', 'also_viewed', 'bought_together', 'buy_after_viewing']\n",
    "\n",
    "# empty array of lines\n",
    "lines = {}\n",
    "for key in keys:\n",
    "  lines[key] = []"
   ]
  },
  {
   "cell_type": "code",
   "execution_count": 11,
   "metadata": {},
   "outputs": [],
   "source": [
    "ids = set(products.asin)"
   ]
  },
  {
   "cell_type": "code",
   "execution_count": 12,
   "metadata": {},
   "outputs": [],
   "source": [
    "# append (id, id2) to array\n",
    "for i, row in products.iterrows():\n",
    "  id = row.asin\n",
    "  related = row.related\n",
    "  for key in keys:\n",
    "    try:\n",
    "      for productId in related[key]:\n",
    "        # check if the product id wasn't filtered out\n",
    "        if productId in ids:\n",
    "          lines[key].append([id, productId])\n",
    "    except:\n",
    "      pass"
   ]
  },
  {
   "cell_type": "code",
   "execution_count": 13,
   "metadata": {},
   "outputs": [],
   "source": [
    "import csv\n",
    "\n",
    "for key in keys:\n",
    "  with open(f'related_{key}.csv', \"w\", newline='') as csv_file:\n",
    "    writer = csv.writer(csv_file)\n",
    "    for line in lines[key]:\n",
    "      writer.writerow(line)"
   ]
  }
 ],
 "metadata": {
  "kernelspec": {
   "display_name": "Python 3",
   "language": "python",
   "name": "python3"
  },
  "language_info": {
   "codemirror_mode": {
    "name": "ipython",
    "version": 3
   },
   "file_extension": ".py",
   "mimetype": "text/x-python",
   "name": "python",
   "nbconvert_exporter": "python",
   "pygments_lexer": "ipython3",
   "version": "3.10.0"
  },
  "orig_nbformat": 4,
  "vscode": {
   "interpreter": {
    "hash": "bedefe99a532ed1dcc567f7f5beb39e3c5be466ed88551f7c83012ec64f38bef"
   }
  }
 },
 "nbformat": 4,
 "nbformat_minor": 2
}
